{
  "nbformat": 4,
  "nbformat_minor": 0,
  "metadata": {
    "colab": {
      "name": "Jerry Q - Regression_Exercise-1.ipynb",
      "provenance": [],
      "collapsed_sections": []
    },
    "kernelspec": {
      "display_name": "Python 3",
      "language": "python",
      "name": "python3"
    },
    "language_info": {
      "codemirror_mode": {
        "name": "ipython",
        "version": 3
      },
      "file_extension": ".py",
      "mimetype": "text/x-python",
      "name": "python",
      "nbconvert_exporter": "python",
      "pygments_lexer": "ipython3",
      "version": "3.7.3"
    }
  },
  "cells": [
    {
      "cell_type": "markdown",
      "metadata": {
        "colab_type": "text",
        "id": "xTfQvqbXr9G1"
      },
      "source": [
        "# Regression Exercises"
      ]
    },
    {
      "cell_type": "markdown",
      "metadata": {
        "id": "WSD8LSUdywgk",
        "colab_type": "text"
      },
      "source": [
        "## Linear"
      ]
    },
    {
      "cell_type": "code",
      "metadata": {
        "colab_type": "code",
        "id": "VohVqdqmr9G3",
        "colab": {}
      },
      "source": [
        "# Loading data\n",
        "import pandas as pd\n",
        "import numpy as np\n",
        "from matplotlib import pyplot as plt\n",
        "\n",
        "# Read data from Github\n",
        "data_url = \"https://raw.githubusercontent.com/BeaverWorksMedlytics2020/Data_Public/master/NotebookExampleData/Week1/ex1data2.txt\"\n",
        "data_array = np.genfromtxt(data_url, delimiter=',')\n",
        "\n",
        "# The columns in this data set are define as folows:\n",
        "\"\"\"\n",
        "    0 = floor area\n",
        "    1 = number of bedrooms\n",
        "    2 = sale price\n",
        "\"\"\"\n",
        "    \n",
        "# store the relevant columns in more descriptive variables\n",
        "x_sqft = data_array[:,0]\n",
        "y_value = data_array[:,2]"
      ],
      "execution_count": 10,
      "outputs": []
    },
    {
      "cell_type": "markdown",
      "metadata": {
        "colab_type": "text",
        "id": "bubHPtJ5r9G-"
      },
      "source": [
        "Here we'll build off of the tutorial exercise, first finding the best linear fit for floor area (sqft) vs valued price (USD). Recall that setting the derivative = 0 and solving for 𝑏 & 𝑚 produces formula for the best fit trend:\n",
        "$$ m = \\frac{\\sum^n_{i=1} (x_i-x_{mean})(y_i-y_{mean})}{\\sum^n_{i=1} (x_i-x_{mean})^2} $$\n",
        "$$ b = y_{mean}-m*x_{mean} $$"
      ]
    },
    {
      "cell_type": "code",
      "metadata": {
        "colab_type": "code",
        "id": "HaPeEPN8r9HA",
        "colab": {}
      },
      "source": [
        "def find_best_fit(xx,yy):\n",
        "    '''\n",
        "      This function finds the best linear fit for yy vs xx\n",
        "    '''\n",
        "    ## YOUR CODE HERE\n",
        "    #solving for m\n",
        "    xMean = np.mean(xx)\n",
        "    yMean = np.mean(yy)\n",
        "    numerator = sum((xx - xMean) * (yy - yMean))\n",
        "    denominator = sum((xx - xMean)**2)\n",
        "    m = float(numerator) / float(denominator)\n",
        "\n",
        "    b = yMean - m * xMean\n",
        "\n",
        "    return (m, b)"
      ],
      "execution_count": 11,
      "outputs": []
    },
    {
      "cell_type": "code",
      "metadata": {
        "colab_type": "code",
        "id": "mfZ7t4F9r9HH",
        "colab": {
          "base_uri": "https://localhost:8080/",
          "height": 34
        },
        "outputId": "961df299-ebdd-403b-93e0-1d07b980cb0d"
      },
      "source": [
        "# Use your function to show the best fit values for our data\n",
        "(mm,bb) = find_best_fit(x_sqft, y_value)\n",
        "fit_str = 'y = {aa:.1f}x + {bb:.1f}'\n",
        "print(fit_str.format(aa=mm,bb=bb))"
      ],
      "execution_count": 12,
      "outputs": [
        {
          "output_type": "stream",
          "text": [
            "y = 134.5x + 71270.5\n"
          ],
          "name": "stdout"
        }
      ]
    },
    {
      "cell_type": "markdown",
      "metadata": {
        "colab_type": "text",
        "id": "jVYEfrpsr9HN"
      },
      "source": [
        "Now we have the best fit trend line that minimizes total error for our data, let's try plotting it and see what it looks like. Since its just an equation, we need to *sample* the curve in order to plot it. To do this, we'll find the difference between the largest and smallest floor area, and divide it into 100 sample points."
      ]
    },
    {
      "cell_type": "code",
      "metadata": {
        "colab_type": "code",
        "id": "dZARuzL7r9HO",
        "colab": {
          "base_uri": "https://localhost:8080/",
          "height": 297
        },
        "outputId": "2ffc6f75-d396-4978-dd36-a867b2d494f9"
      },
      "source": [
        "import random\n",
        "\n",
        "# Plot the data\n",
        "plt.subplot(2,1,1)\n",
        "plt.scatter(x_sqft, y_value)\n",
        "plt.xlabel(\"Floor value (sqft)\")\n",
        "plt.ylabel(\"Valued price (USD)\")\n",
        "plt.title(\"Value Price Based on Floor Value\")\n",
        "# Sample the range from minimum to maximum sqft to get 100 points\n",
        "minSqft = min(x_sqft)\n",
        "maxSqft = max(x_sqft)\n",
        "randomSample = list(random.sample(range(int(minSqft), int(maxSqft)), 100))\n",
        "\n",
        "def estimateVal(sqft):\n",
        "  return 134.5 * sqft + 71270.5\n",
        "\n",
        "sampleValues = []\n",
        "for i in range(len(randomSample)):\n",
        "  sampleValues.append(estimateVal(randomSample[i]))\n",
        "\n",
        "# Apply the best fit equation to each sample point and plot the result\n",
        "plt.subplot(2,1,2)\n",
        "plt.scatter(randomSample, sampleValues)\n",
        "plt.xlabel(\"Floor value (sqft)\")\n",
        "plt.ylabel(\"Valued price (USD)\")\n",
        "plt.title(\"Estimated Value Based on Regression\")\n",
        "\n",
        "plt.tight_layout()\n",
        "plt.show()"
      ],
      "execution_count": 13,
      "outputs": [
        {
          "output_type": "display_data",
          "data": {
            "image/png": "[encoded data removed]",
            "text/plain": [
              "<Figure size 432x288 with 2 Axes>"
            ]
          },
          "metadata": {
            "tags": [],
            "needs_background": "light"
          }
        }
      ]
    },
    {
      "cell_type": "markdown",
      "metadata": {
        "colab_type": "text",
        "id": "ywlWE2xtr9HU"
      },
      "source": [
        "1: Given these parameters, how much should a house with 1600 sqft cost?\n",
        "\n",
        "(YOUR ANSWER HERE)"
      ]
    },
    {
      "cell_type": "code",
      "metadata": {
        "id": "fnSGnTbKtqCb",
        "colab_type": "code",
        "colab": {
          "base_uri": "https://localhost:8080/",
          "height": 34
        },
        "outputId": "fcd72831-2eda-4921-ae71-1ebf55818363"
      },
      "source": [
        "print(estimateVal(1600))"
      ],
      "execution_count": 14,
      "outputs": [
        {
          "output_type": "stream",
          "text": [
            "286470.5\n"
          ],
          "name": "stdout"
        }
      ]
    },
    {
      "cell_type": "markdown",
      "metadata": {
        "colab_type": "text",
        "id": "J4rZ9L_Rr9HV"
      },
      "source": [
        "2: From the dataset, how much did a house with 1600 sqft actually cost?\n",
        "\n",
        "(YOUR ANSWER HERE)"
      ]
    },
    {
      "cell_type": "code",
      "metadata": {
        "id": "5P7LN_zTtwDE",
        "colab_type": "code",
        "colab": {
          "base_uri": "https://localhost:8080/",
          "height": 34
        },
        "outputId": "ad459f96-c0aa-411a-e243-26480ae8cbaa"
      },
      "source": [
        "print(y_value[np.where(x_sqft == 1600)])"
      ],
      "execution_count": 15,
      "outputs": [
        {
          "output_type": "stream",
          "text": [
            "[329900.]\n"
          ],
          "name": "stdout"
        }
      ]
    },
    {
      "cell_type": "markdown",
      "metadata": {
        "colab_type": "text",
        "id": "KTZMjw7rr9HW"
      },
      "source": [
        "3: Assuming the current 1600 sqft house would sell for as much as the historical one, how much money would we have lost? What percentage of the total price is this?\n",
        "\n",
        "(YOUR ANSWER HERE)"
      ]
    },
    {
      "cell_type": "code",
      "metadata": {
        "id": "hUdAIvaLuZie",
        "colab_type": "code",
        "colab": {
          "base_uri": "https://localhost:8080/",
          "height": 51
        },
        "outputId": "f4a9f982-0bd6-424e-aa3d-2c57064e5463"
      },
      "source": [
        "loss = (y_value[np.where(x_sqft == 1600)] - estimateVal(1600))[0]\n",
        "print(\"We would have lost $%s\\nThis relates to %s%%\" % (loss, '{0:.2f}'.format(100 *loss / (y_value[np.where(x_sqft == 1600)])[0])))"
      ],
      "execution_count": 16,
      "outputs": [
        {
          "output_type": "stream",
          "text": [
            "We would have lost $43429.5\n",
            "This relates to 13.16%\n"
          ],
          "name": "stdout"
        }
      ]
    },
    {
      "cell_type": "markdown",
      "metadata": {
        "colab_type": "text",
        "id": "UN9zGe6Mr9HY"
      },
      "source": [
        "Now compare the values for 𝑚 and 𝑏 that sklearn generated in the tutorial notebook with the values that you found just now with your function. Hopefully they match."
      ]
    },
    {
      "cell_type": "code",
      "metadata": {
        "colab_type": "code",
        "id": "CDw75BJrr9HZ",
        "colab": {
          "base_uri": "https://localhost:8080/",
          "height": 51
        },
        "outputId": "2cf09f09-17d3-459c-9d36-085b84c166a0"
      },
      "source": [
        "print(\"Sklearn:\",134.52528772, 71270.492448729)\n",
        "print(\"My function:\",mm,bb)"
      ],
      "execution_count": 17,
      "outputs": [
        {
          "output_type": "stream",
          "text": [
            "Sklearn: 134.52528772 71270.492448729\n",
            "My function: 134.52528772024135 71270.49244872906\n"
          ],
          "name": "stdout"
        }
      ]
    },
    {
      "cell_type": "markdown",
      "metadata": {
        "colab_type": "text",
        "id": "L5R8SjF9r9Hf"
      },
      "source": [
        "---\n",
        "Remember how despite adding an entire new variable, the $R^2$ value barely increased? Let's investigate this further by finding the correlation ($R^2$) value for a regression of square footage vs. number of bedrooms."
      ]
    },
    {
      "cell_type": "code",
      "metadata": {
        "colab_type": "code",
        "id": "gMPm_HXgr9Hg",
        "colab": {
          "base_uri": "https://localhost:8080/",
          "height": 34
        },
        "outputId": "8ce61a52-85e4-48ec-c540-ecc724cd8b71"
      },
      "source": [
        "import sklearn.linear_model as lm\n",
        "\n",
        "## YOUR CODE HERE\n",
        "model = lm.LinearRegression()\n",
        "rooms = data_array[:, 1].reshape(-1, 1)\n",
        "sqft = x_sqft.reshape(-1, 1)\n",
        "roomAndSqft = np.concatenate((sqft, rooms), axis = 1)\n",
        "roomAndSize = model.fit(roomAndSqft, y_value)\n",
        "\n",
        "print(roomAndSize.score(roomAndSqft, y_value))"
      ],
      "execution_count": 18,
      "outputs": [
        {
          "output_type": "stream",
          "text": [
            "0.7329450180289143\n"
          ],
          "name": "stdout"
        }
      ]
    },
    {
      "cell_type": "markdown",
      "metadata": {
        "colab_type": "text",
        "id": "7QT8aPEQr9Hl"
      },
      "source": [
        "Do 2 variables have to be verry correlated to reduce their effectiveness together?\n",
        "\n",
        "(YOUR ANSWER HERE)"
      ]
    },
    {
      "cell_type": "markdown",
      "metadata": {
        "id": "sg15p2qE2Ewl",
        "colab_type": "text"
      },
      "source": [
        "I think that 2 variables need not be very closely correlated to reduce their effectiveness. For example, if there were two variables that both affected the output variable, but where independent of one another, and one had more \"influence\" -- so to speak -- on the output, I think the effectiveness of having both would be reduced.\n",
        "\n",
        "For a more concrete example, we can consider the housing problem. One factor can be size, and the other factor can be location. As size increases, the price will increase (generally) regardless of location, but location (I think) affects price much more drastically than size. Like an aparment in San Francisco can cost as much as a mansion in Iowa."
      ]
    },
    {
      "cell_type": "markdown",
      "metadata": {
        "colab_type": "text",
        "id": "HY_jT1uksAYu"
      },
      "source": [
        "## Logistic\n",
        "\n",
        "We are going to predict wheter or not someone has breast cancer using Logistical Regression! We are going to use sklearn's breast cancer dataset! It is up to you to decide what features to get the best results!"
      ]
    },
    {
      "cell_type": "code",
      "metadata": {
        "colab_type": "code",
        "id": "Pg6kfm6VAdhN",
        "colab": {
          "base_uri": "https://localhost:8080/",
          "height": 258
        },
        "outputId": "62c0316f-56d9-4815-c670-e76ed3280ff7"
      },
      "source": [
        "from sklearn.datasets import load_breast_cancer #datasets\n",
        "from sklearn.model_selection import train_test_split\n",
        "from sklearn.linear_model import LogisticRegression\n",
        "import pandas as pd\n",
        "\n",
        "data = load_breast_cancer()\n",
        "\n",
        "X_cols = \"-area\"\n",
        "Y_col = \"target\"\n",
        "\n",
        "## YOUR CODE HERE\n",
        "x = data.data\n",
        "y = data.target\n",
        "\n",
        "#print(data)\n",
        "\n",
        "test_size = 0.15\n",
        "X_train, X_val, y_train, y_val = train_test_split(x, data[Y_col], test_size = test_size, random_state = 1)\n",
        "\n",
        "logreg = LogisticRegression()\n",
        "logreg.fit(X_train, y_train)"
      ],
      "execution_count": 46,
      "outputs": [
        {
          "output_type": "stream",
          "text": [
            "/usr/local/lib/python3.6/dist-packages/sklearn/linear_model/_logistic.py:940: ConvergenceWarning: lbfgs failed to converge (status=1):\n",
            "STOP: TOTAL NO. of ITERATIONS REACHED LIMIT.\n",
            "\n",
            "Increase the number of iterations (max_iter) or scale the data as shown in:\n",
            "    https://scikit-learn.org/stable/modules/preprocessing.html\n",
            "Please also refer to the documentation for alternative solver options:\n",
            "    https://scikit-learn.org/stable/modules/linear_model.html#logistic-regression\n",
            "  extra_warning_msg=_LOGISTIC_SOLVER_CONVERGENCE_MSG)\n"
          ],
          "name": "stderr"
        },
        {
          "output_type": "execute_result",
          "data": {
            "text/plain": [
              "LogisticRegression(C=1.0, class_weight=None, dual=False, fit_intercept=True,\n",
              "                   intercept_scaling=1, l1_ratio=None, max_iter=100,\n",
              "                   multi_class='auto', n_jobs=None, penalty='l2',\n",
              "                   random_state=None, solver='lbfgs', tol=0.0001, verbose=0,\n",
              "                   warm_start=False)"
            ]
          },
          "metadata": {
            "tags": []
          },
          "execution_count": 46
        }
      ]
    },
    {
      "cell_type": "markdown",
      "metadata": {
        "colab_type": "text",
        "id": "kUZXPX46CUS9"
      },
      "source": [
        "Test your logistical regression! You must get an accuracy of > 80%"
      ]
    },
    {
      "cell_type": "code",
      "metadata": {
        "colab_type": "code",
        "id": "AnPoDu-CCTsE",
        "colab": {
          "base_uri": "https://localhost:8080/",
          "height": 34
        },
        "outputId": "72963d9a-84b2-4d50-ea73-811be0911dc9"
      },
      "source": [
        "from sklearn.metrics import accuracy_score\n",
        "\n",
        "## YOUR CODE HERE\n",
        "y_val_pred=logreg.predict(X_val)\n",
        "print(\"Validation Accuracy is \", accuracy_score(y_val,y_val_pred)*100)"
      ],
      "execution_count": 47,
      "outputs": [
        {
          "output_type": "stream",
          "text": [
            "Validation Accuracy is  94.18604651162791\n"
          ],
          "name": "stdout"
        }
      ]
    },
    {
      "cell_type": "code",
      "metadata": {
        "id": "JQnyN6T-mWBT",
        "colab_type": "code",
        "colab": {}
      },
      "source": [
        ""
      ],
      "execution_count": null,
      "outputs": []
    }
  ]
}
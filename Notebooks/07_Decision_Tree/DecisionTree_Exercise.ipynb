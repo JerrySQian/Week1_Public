{
  "nbformat": 4,
  "nbformat_minor": 0,
  "metadata": {
    "colab": {
      "name": "Jerry Q -DecisionTreeWorksheetStudent",
      "provenance": [],
      "collapsed_sections": []
    },
    "kernelspec": {
      "display_name": "Python 3",
      "language": "python",
      "name": "python3"
    },
    "language_info": {
      "codemirror_mode": {
        "name": "ipython",
        "version": 3
      },
      "file_extension": ".py",
      "mimetype": "text/x-python",
      "name": "python",
      "nbconvert_exporter": "python",
      "pygments_lexer": "ipython3",
      "version": "3.7.3"
    }
  },
  "cells": [
    {
      "cell_type": "markdown",
      "metadata": {
        "colab_type": "text",
        "id": "-UimMCmGe19F"
      },
      "source": [
        "# Decision Tree Worksheet"
      ]
    },
    {
      "cell_type": "code",
      "metadata": {
        "colab_type": "code",
        "id": "kedW02LgKjVL",
        "colab": {}
      },
      "source": [
        "import numpy as np\n",
        "import pandas as pd\n",
        "from sklearn.model_selection import train_test_split\n",
        "from sklearn.tree import DecisionTreeClassifier\n",
        "from sklearn.metrics import accuracy_score\n",
        "from sklearn import tree\n",
        "from sklearn.ensemble import RandomForestClassifier\n",
        "from sklearn import metrics\n",
        "import graphviz\n",
        "import matplotlib.pyplot as plt"
      ],
      "execution_count": 11,
      "outputs": []
    },
    {
      "cell_type": "markdown",
      "metadata": {
        "colab_type": "text",
        "id": "rz35eT5-SMht"
      },
      "source": [
        "## Loading data\n",
        "\n",
        "Load Pima diabetes dataset and split data, with test size 20% and validaton 20%."
      ]
    },
    {
      "cell_type": "code",
      "metadata": {
        "colab_type": "code",
        "id": "Ydh9gmDkMGmu",
        "colab": {
          "base_uri": "https://localhost:8080/",
          "height": 255
        },
        "outputId": "13a5bfa8-66b3-4f23-af76-0cf7a9167c9c"
      },
      "source": [
        "url = \"https://raw.githubusercontent.com/jbrownlee/Datasets/master/pima-indians-diabetes.data.csv\"\n",
        "names = ['preg', 'plas', 'pres', 'skin', 'test', 'mass', 'pedi', 'age', 'class']\n",
        "\n",
        "## YOUR CODE HERE\n",
        "df = pd.read_csv(url, names = names)\n",
        "\n",
        "print(df)\n",
        "\n",
        "X_cols = ['preg', 'plas', 'pres', 'skin', 'test', 'mass', 'pedi', 'age']\n",
        "y_col = 'class'\n",
        "\n",
        "test_size = 0.2\n",
        "X_train, X_test, y_train, y_test = train_test_split(df[X_cols], df[y_col], test_size = test_size, random_state=0)  \n",
        "\n",
        "# further split X and y of training into training and validation sets\n",
        "X_train, X_val, y_train, y_val = train_test_split(X_train, y_train, test_size = test_size, random_state=0)"
      ],
      "execution_count": 19,
      "outputs": [
        {
          "output_type": "stream",
          "text": [
            "     preg  plas  pres  skin  test  mass   pedi  age  class\n",
            "0       6   148    72    35     0  33.6  0.627   50      1\n",
            "1       1    85    66    29     0  26.6  0.351   31      0\n",
            "2       8   183    64     0     0  23.3  0.672   32      1\n",
            "3       1    89    66    23    94  28.1  0.167   21      0\n",
            "4       0   137    40    35   168  43.1  2.288   33      1\n",
            "..    ...   ...   ...   ...   ...   ...    ...  ...    ...\n",
            "763    10   101    76    48   180  32.9  0.171   63      0\n",
            "764     2   122    70    27     0  36.8  0.340   27      0\n",
            "765     5   121    72    23   112  26.2  0.245   30      0\n",
            "766     1   126    60     0     0  30.1  0.349   47      1\n",
            "767     1    93    70    31     0  30.4  0.315   23      0\n",
            "\n",
            "[768 rows x 9 columns]\n"
          ],
          "name": "stdout"
        }
      ]
    },
    {
      "cell_type": "markdown",
      "metadata": {
        "colab_type": "text",
        "id": "KAFhsJIsSpMR"
      },
      "source": [
        "## Creating Model\n",
        "\n",
        "Make a model using sklearn's DecisionTreeClassifier, with a high max-depth and low minimum sample leafs."
      ]
    },
    {
      "cell_type": "code",
      "metadata": {
        "colab_type": "code",
        "id": "fHbA28aFS2DM",
        "colab": {
          "base_uri": "https://localhost:8080/",
          "height": 119
        },
        "outputId": "de19ca0b-23af-4747-fc98-85331a1f4154"
      },
      "source": [
        "## YOUR CODE HERE\n",
        "decision_tree = DecisionTreeClassifier(criterion = \"entropy\", random_state = None, max_depth=10, min_samples_leaf=3)\n",
        "decision_tree.fit(X_train, y_train)"
      ],
      "execution_count": 13,
      "outputs": [
        {
          "output_type": "execute_result",
          "data": {
            "text/plain": [
              "DecisionTreeClassifier(ccp_alpha=0.0, class_weight=None, criterion='entropy',\n",
              "                       max_depth=10, max_features=None, max_leaf_nodes=None,\n",
              "                       min_impurity_decrease=0.0, min_impurity_split=None,\n",
              "                       min_samples_leaf=3, min_samples_split=2,\n",
              "                       min_weight_fraction_leaf=0.0, presort='deprecated',\n",
              "                       random_state=None, splitter='best')"
            ]
          },
          "metadata": {
            "tags": []
          },
          "execution_count": 13
        }
      ]
    },
    {
      "cell_type": "markdown",
      "metadata": {
        "colab_type": "text",
        "id": "4_8DZinWTJRa"
      },
      "source": [
        "Print accuracy of training and validation data."
      ]
    },
    {
      "cell_type": "code",
      "metadata": {
        "colab_type": "code",
        "id": "EgByCP_EhyB2",
        "colab": {
          "base_uri": "https://localhost:8080/",
          "height": 51
        },
        "outputId": "400e6656-e0e1-4011-b0ac-66f939474720"
      },
      "source": [
        "## YOUR CODE HERE\n",
        "y_train_pred=decision_tree.predict(X_train)\n",
        "print(\"Training Accuracy is \", accuracy_score(y_train, y_train_pred)*100)\n",
        "y_val_pred=decision_tree.predict(X_val)\n",
        "print(\"Validation Accuracy is \", accuracy_score(y_val,y_val_pred)*100)"
      ],
      "execution_count": 14,
      "outputs": [
        {
          "output_type": "stream",
          "text": [
            "Training Accuracy is  90.4276985743381\n",
            "Validation Accuracy is  72.35772357723577\n"
          ],
          "name": "stdout"
        }
      ]
    },
    {
      "cell_type": "markdown",
      "metadata": {
        "colab_type": "text",
        "id": "6HNa6fxbT6ak"
      },
      "source": [
        "Make a model with a low max-depth and higher minimum sample leafs."
      ]
    },
    {
      "cell_type": "code",
      "metadata": {
        "colab_type": "code",
        "id": "6Pbu-t_tiqnB",
        "colab": {
          "base_uri": "https://localhost:8080/",
          "height": 119
        },
        "outputId": "907d2761-402a-4dd5-b5b4-5416ab314ee4"
      },
      "source": [
        "## YOUR CODE HERE\n",
        "decision_tree2 = DecisionTreeClassifier(criterion = \"entropy\", random_state = None, max_depth=3, min_samples_leaf=10)\n",
        "decision_tree2.fit(X_train, y_train)"
      ],
      "execution_count": 15,
      "outputs": [
        {
          "output_type": "execute_result",
          "data": {
            "text/plain": [
              "DecisionTreeClassifier(ccp_alpha=0.0, class_weight=None, criterion='entropy',\n",
              "                       max_depth=3, max_features=None, max_leaf_nodes=None,\n",
              "                       min_impurity_decrease=0.0, min_impurity_split=None,\n",
              "                       min_samples_leaf=10, min_samples_split=2,\n",
              "                       min_weight_fraction_leaf=0.0, presort='deprecated',\n",
              "                       random_state=None, splitter='best')"
            ]
          },
          "metadata": {
            "tags": []
          },
          "execution_count": 15
        }
      ]
    },
    {
      "cell_type": "markdown",
      "metadata": {
        "id": "WuNivgc45dLD",
        "colab_type": "text"
      },
      "source": [
        "Print accuracy of training and validation data."
      ]
    },
    {
      "cell_type": "code",
      "metadata": {
        "id": "ELbyErzE5dLD",
        "colab_type": "code",
        "colab": {
          "base_uri": "https://localhost:8080/",
          "height": 51
        },
        "outputId": "48898a2e-2b9b-4412-ad5d-65468d884890"
      },
      "source": [
        "## YOUR CODE HERE\n",
        "y_train_pred=decision_tree2.predict(X_train)\n",
        "print(\"Training Accuracy is \", accuracy_score(y_train, y_train_pred)*100)\n",
        "y_val_pred=decision_tree2.predict(X_val)\n",
        "print(\"Validation Accuracy is \", accuracy_score(y_val,y_val_pred)*100)"
      ],
      "execution_count": 16,
      "outputs": [
        {
          "output_type": "stream",
          "text": [
            "Training Accuracy is  78.41140529531569\n",
            "Validation Accuracy is  72.35772357723577\n"
          ],
          "name": "stdout"
        }
      ]
    },
    {
      "cell_type": "markdown",
      "metadata": {
        "id": "70KvbfHI5dLH",
        "colab_type": "text"
      },
      "source": [
        "Explain the accuracy results below. \n",
        "\n",
        "(YOUR ANSWER HERE)"
      ]
    },
    {
      "cell_type": "markdown",
      "metadata": {
        "id": "KrGHcsds15Af",
        "colab_type": "text"
      },
      "source": [
        "The first decision tree (decision_tree) had better training and validation accuracy because it had more nodes that it could use to \"split\" the data. This is because of the max_depth argument; when high, it can increase accuracy, but has risk of overfitting. Likewise, the min_samples_leaf being very high in decision_tree2 would decrease accuracy, because it doesn't split the data into categories as well."
      ]
    },
    {
      "cell_type": "markdown",
      "metadata": {
        "id": "YHo_dTUH5dLI",
        "colab_type": "text"
      },
      "source": [
        "## Metrics"
      ]
    },
    {
      "cell_type": "markdown",
      "metadata": {
        "id": "5PBRg8Q_5dLJ",
        "colab_type": "text"
      },
      "source": [
        "Plot the ROC curve and print the AUC of the second model."
      ]
    },
    {
      "cell_type": "code",
      "metadata": {
        "id": "DJQCClDO5dLJ",
        "colab_type": "code",
        "colab": {
          "base_uri": "https://localhost:8080/",
          "height": 421
        },
        "outputId": "fe5d2692-8ea7-4bd6-e3fb-691eb8896f4f"
      },
      "source": [
        "## YOUR CODE HERE\n",
        "labels = [0,1]\n",
        "y_val_prob = decision_tree2.predict_proba(X_val,labels)\n",
        "\n",
        "fpr, tpr, thresholds = metrics.roc_curve(y_val, y_val_prob[:,1])\n",
        "\n",
        "# Calculate the area under the ROC curve\n",
        "roc_auc = metrics.auc(fpr, tpr)\n",
        "\n",
        "plt.figure(figsize=(6,6))\n",
        "lw = 2\n",
        "plt.plot(fpr, tpr, color='darkorange',\n",
        "         lw=lw, label='ROC curve (area = %0.2f)' % roc_auc)\n",
        "plt.plot([0, 1], [0, 1], color='navy', lw=lw, linestyle='--')\n",
        "plt.xlim([0.0, 1.0])\n",
        "plt.ylim([0.0, 1.0])\n",
        "plt.xlabel('False Positive Rate')\n",
        "plt.ylabel('True Positive Rate')\n",
        "plt.title('Receiver operating characteristic')\n",
        "plt.legend(loc=\"lower right\")\n",
        "plt.show()\n",
        "\n",
        "print(\"AUC curve (area = %0.2f)\" % roc_auc)"
      ],
      "execution_count": 23,
      "outputs": [
        {
          "output_type": "display_data",
          "data": {
            "image/png": "[encoded data removed]",
            "text/plain": [
              "<Figure size 432x432 with 1 Axes>"
            ]
          },
          "metadata": {
            "tags": [],
            "needs_background": "light"
          }
        },
        {
          "output_type": "stream",
          "text": [
            "AUC curve (area = 0.80)\n"
          ],
          "name": "stdout"
        }
      ]
    },
    {
      "cell_type": "markdown",
      "metadata": {
        "colab_type": "text",
        "id": "tKdqOMBKUvGZ"
      },
      "source": [
        "Use graphviz to visualize your 2nd tree."
      ]
    },
    {
      "cell_type": "code",
      "metadata": {
        "colab_type": "code",
        "id": "8o55bY_jl8gj",
        "colab": {
          "base_uri": "https://localhost:8080/"
        },
        "outputId": "1ffd1108-c97c-426f-8206-2df6ee954038"
      },
      "source": [
        "## YOUR CODE HERE\n",
        "dot_data = tree.export_graphviz(decision_tree2, out_file=None, filled=True)\n",
        "\n",
        "graph = graphviz.Source(dot_data)\n",
        "graph"
      ],
      "execution_count": null,
      "outputs": [
        {
          "output_type": "execute_result",
          "data": {
            "text/plain": [
              "<graphviz.files.Source at 0x7fb29453efd0>"
            ],
            "image/svg+xml": "<?xml version=\"1.0\" encoding=\"UTF-8\" standalone=\"no\"?>\n<!DOCTYPE svg PUBLIC \"-//W3C//DTD SVG 1.1//EN\"\n \"http://www.w3.org/Graphics/SVG/1.1/DTD/svg11.dtd\">\n<!-- Generated by graphviz version 2.40.1 (20161225.0304)\n -->\n<!-- Title: Tree Pages: 1 -->\n<svg width=\"1014pt\" height=\"373pt\"\n viewBox=\"0.00 0.00 1014.00 373.00\" xmlns=\"http://www.w3.org/2000/svg\" xmlns:xlink=\"http://www.w3.org/1999/xlink\">\n<g id=\"graph0\" class=\"graph\" transform=\"scale(1 1) rotate(0) translate(4 369)\">\n<title>Tree</title>\n<polygon fill=\"#ffffff\" stroke=\"transparent\" points=\"-4,4 -4,-369 1010,-369 1010,4 -4,4\"/>\n<!-- 0 -->\n<g id=\"node1\" class=\"node\">\n<title>0</title>\n<polygon fill=\"#f3c7a7\" stroke=\"#000000\" points=\"561.5,-365 436.5,-365 436.5,-297 561.5,-297 561.5,-365\"/>\n<text text-anchor=\"middle\" x=\"499\" y=\"-349.8\" font-family=\"Times,serif\" font-size=\"14.00\" fill=\"#000000\">X[1] &lt;= 127.5</text>\n<text text-anchor=\"middle\" x=\"499\" y=\"-334.8\" font-family=\"Times,serif\" font-size=\"14.00\" fill=\"#000000\">entropy = 0.94</text>\n<text text-anchor=\"middle\" x=\"499\" y=\"-319.8\" font-family=\"Times,serif\" font-size=\"14.00\" fill=\"#000000\">samples = 491</text>\n<text text-anchor=\"middle\" x=\"499\" y=\"-304.8\" font-family=\"Times,serif\" font-size=\"14.00\" fill=\"#000000\">value = [316, 175]</text>\n</g>\n<!-- 1 -->\n<g id=\"node2\" class=\"node\">\n<title>1</title>\n<polygon fill=\"#eba06a\" stroke=\"#000000\" points=\"431.5,-261 314.5,-261 314.5,-193 431.5,-193 431.5,-261\"/>\n<text text-anchor=\"middle\" x=\"373\" y=\"-245.8\" font-family=\"Times,serif\" font-size=\"14.00\" fill=\"#000000\">X[7] &lt;= 28.5</text>\n<text text-anchor=\"middle\" x=\"373\" y=\"-230.8\" font-family=\"Times,serif\" font-size=\"14.00\" fill=\"#000000\">entropy = 0.719</text>\n<text text-anchor=\"middle\" x=\"373\" y=\"-215.8\" font-family=\"Times,serif\" font-size=\"14.00\" fill=\"#000000\">samples = 307</text>\n<text text-anchor=\"middle\" x=\"373\" y=\"-200.8\" font-family=\"Times,serif\" font-size=\"14.00\" fill=\"#000000\">value = [246, 61]</text>\n</g>\n<!-- 0&#45;&gt;1 -->\n<g id=\"edge1\" class=\"edge\">\n<title>0&#45;&gt;1</title>\n<path fill=\"none\" stroke=\"#000000\" d=\"M457.7429,-296.9465C446.4299,-287.6088 434.0508,-277.3911 422.3342,-267.7203\"/>\n<polygon fill=\"#000000\" stroke=\"#000000\" points=\"424.29,-264.7964 414.3498,-261.13 419.8341,-270.195 424.29,-264.7964\"/>\n<text text-anchor=\"middle\" x=\"416.7302\" y=\"-282.3164\" font-family=\"Times,serif\" font-size=\"14.00\" fill=\"#000000\">True</text>\n</g>\n<!-- 8 -->\n<g id=\"node9\" class=\"node\">\n<title>8</title>\n<polygon fill=\"#b3d9f5\" stroke=\"#000000\" points=\"687,-261 571,-261 571,-193 687,-193 687,-261\"/>\n<text text-anchor=\"middle\" x=\"629\" y=\"-245.8\" font-family=\"Times,serif\" font-size=\"14.00\" fill=\"#000000\">X[5] &lt;= 29.95</text>\n<text text-anchor=\"middle\" x=\"629\" y=\"-230.8\" font-family=\"Times,serif\" font-size=\"14.00\" fill=\"#000000\">entropy = 0.958</text>\n<text text-anchor=\"middle\" x=\"629\" y=\"-215.8\" font-family=\"Times,serif\" font-size=\"14.00\" fill=\"#000000\">samples = 184</text>\n<text text-anchor=\"middle\" x=\"629\" y=\"-200.8\" font-family=\"Times,serif\" font-size=\"14.00\" fill=\"#000000\">value = [70, 114]</text>\n</g>\n<!-- 0&#45;&gt;8 -->\n<g id=\"edge8\" class=\"edge\">\n<title>0&#45;&gt;8</title>\n<path fill=\"none\" stroke=\"#000000\" d=\"M541.5669,-296.9465C553.3512,-287.519 566.2568,-277.1946 578.4481,-267.4415\"/>\n<polygon fill=\"#000000\" stroke=\"#000000\" points=\"580.7152,-270.11 586.3375,-261.13 576.3423,-264.6439 580.7152,-270.11\"/>\n<text text-anchor=\"middle\" x=\"583.5767\" y=\"-282.2771\" font-family=\"Times,serif\" font-size=\"14.00\" fill=\"#000000\">False</text>\n</g>\n<!-- 2 -->\n<g id=\"node3\" class=\"node\">\n<title>2</title>\n<polygon fill=\"#e78c4a\" stroke=\"#000000\" points=\"241.5,-157 124.5,-157 124.5,-89 241.5,-89 241.5,-157\"/>\n<text text-anchor=\"middle\" x=\"183\" y=\"-141.8\" font-family=\"Times,serif\" font-size=\"14.00\" fill=\"#000000\">X[5] &lt;= 30.95</text>\n<text text-anchor=\"middle\" x=\"183\" y=\"-126.8\" font-family=\"Times,serif\" font-size=\"14.00\" fill=\"#000000\">entropy = 0.404</text>\n<text text-anchor=\"middle\" x=\"183\" y=\"-111.8\" font-family=\"Times,serif\" font-size=\"14.00\" fill=\"#000000\">samples = 174</text>\n<text text-anchor=\"middle\" x=\"183\" y=\"-96.8\" font-family=\"Times,serif\" font-size=\"14.00\" fill=\"#000000\">value = [160, 14]</text>\n</g>\n<!-- 1&#45;&gt;2 -->\n<g id=\"edge2\" class=\"edge\">\n<title>1&#45;&gt;2</title>\n<path fill=\"none\" stroke=\"#000000\" d=\"M314.4434,-194.948C294.2172,-183.8768 271.3932,-171.3836 250.5088,-159.9522\"/>\n<polygon fill=\"#000000\" stroke=\"#000000\" points=\"252.1427,-156.8566 241.6903,-155.1252 248.7817,-162.9969 252.1427,-156.8566\"/>\n</g>\n<!-- 5 -->\n<g id=\"node6\" class=\"node\">\n<title>5</title>\n<polygon fill=\"#f3c6a5\" stroke=\"#000000\" points=\"428,-157 318,-157 318,-89 428,-89 428,-157\"/>\n<text text-anchor=\"middle\" x=\"373\" y=\"-141.8\" font-family=\"Times,serif\" font-size=\"14.00\" fill=\"#000000\">X[5] &lt;= 26.35</text>\n<text text-anchor=\"middle\" x=\"373\" y=\"-126.8\" font-family=\"Times,serif\" font-size=\"14.00\" fill=\"#000000\">entropy = 0.937</text>\n<text text-anchor=\"middle\" x=\"373\" y=\"-111.8\" font-family=\"Times,serif\" font-size=\"14.00\" fill=\"#000000\">samples = 133</text>\n<text text-anchor=\"middle\" x=\"373\" y=\"-96.8\" font-family=\"Times,serif\" font-size=\"14.00\" fill=\"#000000\">value = [86, 47]</text>\n</g>\n<!-- 1&#45;&gt;5 -->\n<g id=\"edge5\" class=\"edge\">\n<title>1&#45;&gt;5</title>\n<path fill=\"none\" stroke=\"#000000\" d=\"M373,-192.9465C373,-184.776 373,-175.9318 373,-167.3697\"/>\n<polygon fill=\"#000000\" stroke=\"#000000\" points=\"376.5001,-167.13 373,-157.13 369.5001,-167.13 376.5001,-167.13\"/>\n</g>\n<!-- 3 -->\n<g id=\"node4\" class=\"node\">\n<title>3</title>\n<polygon fill=\"#e6843d\" stroke=\"#000000\" points=\"110,-53 0,-53 0,0 110,0 110,-53\"/>\n<text text-anchor=\"middle\" x=\"55\" y=\"-37.8\" font-family=\"Times,serif\" font-size=\"14.00\" fill=\"#000000\">entropy = 0.149</text>\n<text text-anchor=\"middle\" x=\"55\" y=\"-22.8\" font-family=\"Times,serif\" font-size=\"14.00\" fill=\"#000000\">samples = 94</text>\n<text text-anchor=\"middle\" x=\"55\" y=\"-7.8\" font-family=\"Times,serif\" font-size=\"14.00\" fill=\"#000000\">value = [92, 2]</text>\n</g>\n<!-- 2&#45;&gt;3 -->\n<g id=\"edge3\" class=\"edge\">\n<title>2&#45;&gt;3</title>\n<path fill=\"none\" stroke=\"#000000\" d=\"M137.872,-88.9777C125.1187,-79.3629 111.2673,-68.9203 98.6053,-59.3743\"/>\n<polygon fill=\"#000000\" stroke=\"#000000\" points=\"100.5719,-56.4737 90.4798,-53.2485 96.3579,-62.0632 100.5719,-56.4737\"/>\n</g>\n<!-- 4 -->\n<g id=\"node5\" class=\"node\">\n<title>4</title>\n<polygon fill=\"#ea975c\" stroke=\"#000000\" points=\"238,-53 128,-53 128,0 238,0 238,-53\"/>\n<text text-anchor=\"middle\" x=\"183\" y=\"-37.8\" font-family=\"Times,serif\" font-size=\"14.00\" fill=\"#000000\">entropy = 0.61</text>\n<text text-anchor=\"middle\" x=\"183\" y=\"-22.8\" font-family=\"Times,serif\" font-size=\"14.00\" fill=\"#000000\">samples = 80</text>\n<text text-anchor=\"middle\" x=\"183\" y=\"-7.8\" font-family=\"Times,serif\" font-size=\"14.00\" fill=\"#000000\">value = [68, 12]</text>\n</g>\n<!-- 2&#45;&gt;4 -->\n<g id=\"edge4\" class=\"edge\">\n<title>2&#45;&gt;4</title>\n<path fill=\"none\" stroke=\"#000000\" d=\"M183,-88.9777C183,-80.7364 183,-71.887 183,-63.5153\"/>\n<polygon fill=\"#000000\" stroke=\"#000000\" points=\"186.5001,-63.2484 183,-53.2485 179.5001,-63.2485 186.5001,-63.2484\"/>\n</g>\n<!-- 6 -->\n<g id=\"node7\" class=\"node\">\n<title>6</title>\n<polygon fill=\"#e68641\" stroke=\"#000000\" points=\"366,-53 256,-53 256,0 366,0 366,-53\"/>\n<text text-anchor=\"middle\" x=\"311\" y=\"-37.8\" font-family=\"Times,serif\" font-size=\"14.00\" fill=\"#000000\">entropy = 0.229</text>\n<text text-anchor=\"middle\" x=\"311\" y=\"-22.8\" font-family=\"Times,serif\" font-size=\"14.00\" fill=\"#000000\">samples = 27</text>\n<text text-anchor=\"middle\" x=\"311\" y=\"-7.8\" font-family=\"Times,serif\" font-size=\"14.00\" fill=\"#000000\">value = [26, 1]</text>\n</g>\n<!-- 5&#45;&gt;6 -->\n<g id=\"edge6\" class=\"edge\">\n<title>5&#45;&gt;6</title>\n<path fill=\"none\" stroke=\"#000000\" d=\"M351.1411,-88.9777C345.4932,-80.187 339.4007,-70.7044 333.7104,-61.8477\"/>\n<polygon fill=\"#000000\" stroke=\"#000000\" points=\"336.5356,-59.7698 328.1856,-53.2485 330.6463,-63.5536 336.5356,-59.7698\"/>\n</g>\n<!-- 7 -->\n<g id=\"node8\" class=\"node\">\n<title>7</title>\n<polygon fill=\"#f9e2d1\" stroke=\"#000000\" points=\"494,-53 384,-53 384,0 494,0 494,-53\"/>\n<text text-anchor=\"middle\" x=\"439\" y=\"-37.8\" font-family=\"Times,serif\" font-size=\"14.00\" fill=\"#000000\">entropy = 0.987</text>\n<text text-anchor=\"middle\" x=\"439\" y=\"-22.8\" font-family=\"Times,serif\" font-size=\"14.00\" fill=\"#000000\">samples = 106</text>\n<text text-anchor=\"middle\" x=\"439\" y=\"-7.8\" font-family=\"Times,serif\" font-size=\"14.00\" fill=\"#000000\">value = [60, 46]</text>\n</g>\n<!-- 5&#45;&gt;7 -->\n<g id=\"edge7\" class=\"edge\">\n<title>5&#45;&gt;7</title>\n<path fill=\"none\" stroke=\"#000000\" d=\"M396.2691,-88.9777C402.344,-80.0954 408.9021,-70.5067 415.0135,-61.5711\"/>\n<polygon fill=\"#000000\" stroke=\"#000000\" points=\"417.9493,-63.4785 420.7057,-53.2485 412.1714,-59.5267 417.9493,-63.4785\"/>\n</g>\n<!-- 9 -->\n<g id=\"node10\" class=\"node\">\n<title>9</title>\n<polygon fill=\"#edaa79\" stroke=\"#000000\" points=\"684,-157 574,-157 574,-89 684,-89 684,-157\"/>\n<text text-anchor=\"middle\" x=\"629\" y=\"-141.8\" font-family=\"Times,serif\" font-size=\"14.00\" fill=\"#000000\">X[1] &lt;= 145.5</text>\n<text text-anchor=\"middle\" x=\"629\" y=\"-126.8\" font-family=\"Times,serif\" font-size=\"14.00\" fill=\"#000000\">entropy = 0.803</text>\n<text text-anchor=\"middle\" x=\"629\" y=\"-111.8\" font-family=\"Times,serif\" font-size=\"14.00\" fill=\"#000000\">samples = 49</text>\n<text text-anchor=\"middle\" x=\"629\" y=\"-96.8\" font-family=\"Times,serif\" font-size=\"14.00\" fill=\"#000000\">value = [37, 12]</text>\n</g>\n<!-- 8&#45;&gt;9 -->\n<g id=\"edge9\" class=\"edge\">\n<title>8&#45;&gt;9</title>\n<path fill=\"none\" stroke=\"#000000\" d=\"M629,-192.9465C629,-184.776 629,-175.9318 629,-167.3697\"/>\n<polygon fill=\"#000000\" stroke=\"#000000\" points=\"632.5001,-167.13 629,-157.13 625.5001,-167.13 632.5001,-167.13\"/>\n</g>\n<!-- 12 -->\n<g id=\"node13\" class=\"node\">\n<title>12</title>\n<polygon fill=\"#79bded\" stroke=\"#000000\" points=\"881.5,-157 764.5,-157 764.5,-89 881.5,-89 881.5,-157\"/>\n<text text-anchor=\"middle\" x=\"823\" y=\"-141.8\" font-family=\"Times,serif\" font-size=\"14.00\" fill=\"#000000\">X[6] &lt;= 0.3</text>\n<text text-anchor=\"middle\" x=\"823\" y=\"-126.8\" font-family=\"Times,serif\" font-size=\"14.00\" fill=\"#000000\">entropy = 0.802</text>\n<text text-anchor=\"middle\" x=\"823\" y=\"-111.8\" font-family=\"Times,serif\" font-size=\"14.00\" fill=\"#000000\">samples = 135</text>\n<text text-anchor=\"middle\" x=\"823\" y=\"-96.8\" font-family=\"Times,serif\" font-size=\"14.00\" fill=\"#000000\">value = [33, 102]</text>\n</g>\n<!-- 8&#45;&gt;12 -->\n<g id=\"edge12\" class=\"edge\">\n<title>8&#45;&gt;12</title>\n<path fill=\"none\" stroke=\"#000000\" d=\"M687.2064,-195.7966C708.689,-184.2801 733.211,-171.1343 755.451,-159.2118\"/>\n<polygon fill=\"#000000\" stroke=\"#000000\" points=\"757.3399,-162.1705 764.4997,-154.361 754.0325,-156.0011 757.3399,-162.1705\"/>\n</g>\n<!-- 10 -->\n<g id=\"node11\" class=\"node\">\n<title>10</title>\n<polygon fill=\"#e78c49\" stroke=\"#000000\" points=\"622,-53 512,-53 512,0 622,0 622,-53\"/>\n<text text-anchor=\"middle\" x=\"567\" y=\"-37.8\" font-family=\"Times,serif\" font-size=\"14.00\" fill=\"#000000\">entropy = 0.391</text>\n<text text-anchor=\"middle\" x=\"567\" y=\"-22.8\" font-family=\"Times,serif\" font-size=\"14.00\" fill=\"#000000\">samples = 26</text>\n<text text-anchor=\"middle\" x=\"567\" y=\"-7.8\" font-family=\"Times,serif\" font-size=\"14.00\" fill=\"#000000\">value = [24, 2]</text>\n</g>\n<!-- 9&#45;&gt;10 -->\n<g id=\"edge10\" class=\"edge\">\n<title>9&#45;&gt;10</title>\n<path fill=\"none\" stroke=\"#000000\" d=\"M607.1411,-88.9777C601.4932,-80.187 595.4007,-70.7044 589.7104,-61.8477\"/>\n<polygon fill=\"#000000\" stroke=\"#000000\" points=\"592.5356,-59.7698 584.1856,-53.2485 586.6463,-63.5536 592.5356,-59.7698\"/>\n</g>\n<!-- 11 -->\n<g id=\"node12\" class=\"node\">\n<title>11</title>\n<polygon fill=\"#f9e2d1\" stroke=\"#000000\" points=\"750,-53 640,-53 640,0 750,0 750,-53\"/>\n<text text-anchor=\"middle\" x=\"695\" y=\"-37.8\" font-family=\"Times,serif\" font-size=\"14.00\" fill=\"#000000\">entropy = 0.988</text>\n<text text-anchor=\"middle\" x=\"695\" y=\"-22.8\" font-family=\"Times,serif\" font-size=\"14.00\" fill=\"#000000\">samples = 23</text>\n<text text-anchor=\"middle\" x=\"695\" y=\"-7.8\" font-family=\"Times,serif\" font-size=\"14.00\" fill=\"#000000\">value = [13, 10]</text>\n</g>\n<!-- 9&#45;&gt;11 -->\n<g id=\"edge11\" class=\"edge\">\n<title>9&#45;&gt;11</title>\n<path fill=\"none\" stroke=\"#000000\" d=\"M652.2691,-88.9777C658.344,-80.0954 664.9021,-70.5067 671.0135,-61.5711\"/>\n<polygon fill=\"#000000\" stroke=\"#000000\" points=\"673.9493,-63.4785 676.7057,-53.2485 668.1714,-59.5267 673.9493,-63.4785\"/>\n</g>\n<!-- 13 -->\n<g id=\"node14\" class=\"node\">\n<title>13</title>\n<polygon fill=\"#deeffb\" stroke=\"#000000\" points=\"878,-53 768,-53 768,0 878,0 878,-53\"/>\n<text text-anchor=\"middle\" x=\"823\" y=\"-37.8\" font-family=\"Times,serif\" font-size=\"14.00\" fill=\"#000000\">entropy = 0.994</text>\n<text text-anchor=\"middle\" x=\"823\" y=\"-22.8\" font-family=\"Times,serif\" font-size=\"14.00\" fill=\"#000000\">samples = 44</text>\n<text text-anchor=\"middle\" x=\"823\" y=\"-7.8\" font-family=\"Times,serif\" font-size=\"14.00\" fill=\"#000000\">value = [20, 24]</text>\n</g>\n<!-- 12&#45;&gt;13 -->\n<g id=\"edge13\" class=\"edge\">\n<title>12&#45;&gt;13</title>\n<path fill=\"none\" stroke=\"#000000\" d=\"M823,-88.9777C823,-80.7364 823,-71.887 823,-63.5153\"/>\n<polygon fill=\"#000000\" stroke=\"#000000\" points=\"826.5001,-63.2484 823,-53.2485 819.5001,-63.2485 826.5001,-63.2484\"/>\n</g>\n<!-- 14 -->\n<g id=\"node15\" class=\"node\">\n<title>14</title>\n<polygon fill=\"#5aade9\" stroke=\"#000000\" points=\"1006,-53 896,-53 896,0 1006,0 1006,-53\"/>\n<text text-anchor=\"middle\" x=\"951\" y=\"-37.8\" font-family=\"Times,serif\" font-size=\"14.00\" fill=\"#000000\">entropy = 0.592</text>\n<text text-anchor=\"middle\" x=\"951\" y=\"-22.8\" font-family=\"Times,serif\" font-size=\"14.00\" fill=\"#000000\">samples = 91</text>\n<text text-anchor=\"middle\" x=\"951\" y=\"-7.8\" font-family=\"Times,serif\" font-size=\"14.00\" fill=\"#000000\">value = [13, 78]</text>\n</g>\n<!-- 12&#45;&gt;14 -->\n<g id=\"edge14\" class=\"edge\">\n<title>12&#45;&gt;14</title>\n<path fill=\"none\" stroke=\"#000000\" d=\"M868.128,-88.9777C880.8813,-79.3629 894.7327,-68.9203 907.3947,-59.3743\"/>\n<polygon fill=\"#000000\" stroke=\"#000000\" points=\"909.6421,-62.0632 915.5202,-53.2485 905.4281,-56.4737 909.6421,-62.0632\"/>\n</g>\n</g>\n</svg>\n"
          },
          "metadata": {
            "tags": []
          },
          "execution_count": 10
        }
      ]
    },
    {
      "cell_type": "markdown",
      "metadata": {
        "colab_type": "text",
        "id": "4iz4meWDVmo2"
      },
      "source": [
        "#### Use the graph above to answer the questions below"
      ]
    },
    {
      "cell_type": "markdown",
      "metadata": {
        "colab_type": "text",
        "id": "u1yM9h10WUEv"
      },
      "source": [
        "Question 1: What do you think X[n] represents in the nodes from the graph?\n",
        "\n",
        "(YOUR ANSWER HERE)"
      ]
    },
    {
      "cell_type": "markdown",
      "metadata": {
        "id": "E9cgB-f13mTd",
        "colab_type": "text"
      },
      "source": [
        "I think X[n] represents the column value. So if n = 5, it would be the referring to the 5th column."
      ]
    },
    {
      "cell_type": "markdown",
      "metadata": {
        "colab_type": "text",
        "id": "rA7B0oTaWUIe"
      },
      "source": [
        "Question 2: What is the root feature? Does it make sense as the root feature?\n",
        "\n",
        "(YOUR ANSWER HERE)"
      ]
    },
    {
      "cell_type": "markdown",
      "metadata": {
        "id": "BGaX_3Gf3__H",
        "colab_type": "text"
      },
      "source": [
        "The root feature is plas. This makes sense as it has lots of variation, so it would be good to split it there, because it would make a good first divide."
      ]
    },
    {
      "cell_type": "markdown",
      "metadata": {
        "colab_type": "text",
        "id": "1t559pS3ZHES"
      },
      "source": [
        "Question 3: If you were to change the parameters to have a max_depth of 500 and min_samples_leaf of 1, what do you think the effect would be on the test accuracy? Training accuracy?\n",
        "\n",
        "(YOUR ANSWER HERE)"
      ]
    },
    {
      "cell_type": "markdown",
      "metadata": {
        "id": "wifA5NVP22VS",
        "colab_type": "text"
      },
      "source": [
        "I think that the training accuracy would be 100 because the tree would match very well with the data, but the validation accuracy and test accuracy would be very low because of overfitting"
      ]
    },
    {
      "cell_type": "markdown",
      "metadata": {
        "colab_type": "text",
        "id": "7dnlqId2bIcR"
      },
      "source": [
        "**Test your guesses, create a model with max_depth=500 and min_samples_leaf=1, and predict values for the training and validation data**"
      ]
    },
    {
      "cell_type": "code",
      "metadata": {
        "colab_type": "code",
        "id": "hnUQKX9vl9Gy",
        "colab": {
          "base_uri": "https://localhost:8080/",
          "height": 51
        },
        "outputId": "a717c646-411b-4b93-d925-9479b135b42e"
      },
      "source": [
        "## YOUR CODE HERE\n",
        "decision_tree3 = DecisionTreeClassifier(criterion = \"entropy\", random_state = None, max_depth=500, min_samples_leaf=1)\n",
        "decision_tree3.fit(X_train, y_train)\n",
        "\n",
        "y_train_pred=decision_tree3.predict(X_train)\n",
        "print(\"Training Accuracy is \", accuracy_score(y_train, y_train_pred)*100)\n",
        "y_val_pred=decision_tree3.predict(X_val)\n",
        "print(\"Validation Accuracy is \", accuracy_score(y_val,y_val_pred)*100)"
      ],
      "execution_count": 20,
      "outputs": [
        {
          "output_type": "stream",
          "text": [
            "Training Accuracy is  100.0\n",
            "Validation Accuracy is  64.22764227642277\n"
          ],
          "name": "stdout"
        }
      ]
    },
    {
      "cell_type": "markdown",
      "metadata": {
        "colab_type": "text",
        "id": "40Psyt65pD8p"
      },
      "source": [
        "# Random Forest"
      ]
    },
    {
      "cell_type": "markdown",
      "metadata": {
        "colab_type": "text",
        "id": "mjLu1MLIpGNF"
      },
      "source": [
        "## Creating Model\n",
        "\n",
        "Create a model with sklearn's RandomForestClassifier and predict values on your validation set."
      ]
    },
    {
      "cell_type": "code",
      "metadata": {
        "colab_type": "code",
        "id": "TYwbpWxUfDIY",
        "colab": {
          "base_uri": "https://localhost:8080/",
          "height": 153
        },
        "outputId": "8fe835a5-30ff-4179-a446-ba09cf683c69"
      },
      "source": [
        "## YOUR CODE HERE\n",
        "random_forest = RandomForestClassifier(n_estimators=100)\n",
        "random_forest.fit(X_train, y_train)"
      ],
      "execution_count": 25,
      "outputs": [
        {
          "output_type": "execute_result",
          "data": {
            "text/plain": [
              "RandomForestClassifier(bootstrap=True, ccp_alpha=0.0, class_weight=None,\n",
              "                       criterion='gini', max_depth=None, max_features='auto',\n",
              "                       max_leaf_nodes=None, max_samples=None,\n",
              "                       min_impurity_decrease=0.0, min_impurity_split=None,\n",
              "                       min_samples_leaf=1, min_samples_split=2,\n",
              "                       min_weight_fraction_leaf=0.0, n_estimators=100,\n",
              "                       n_jobs=None, oob_score=False, random_state=None,\n",
              "                       verbose=0, warm_start=False)"
            ]
          },
          "metadata": {
            "tags": []
          },
          "execution_count": 25
        }
      ]
    },
    {
      "cell_type": "markdown",
      "metadata": {
        "colab_type": "text",
        "id": "6Ys_J3O4pd0u"
      },
      "source": [
        "Print accuracy of training and validation data."
      ]
    },
    {
      "cell_type": "code",
      "metadata": {
        "colab_type": "code",
        "id": "aQdfjEWdfDOH",
        "colab": {
          "base_uri": "https://localhost:8080/",
          "height": 51
        },
        "outputId": "a18db911-b977-42df-f745-269a1a5778f1"
      },
      "source": [
        "## YOUR CODE HERE\n",
        "y_train_pred=random_forest.predict(X_train)\n",
        "print(\"Training Accuracy is \", accuracy_score(y_train, y_train_pred)*100)\n",
        "y_val_pred=random_forest.predict(X_val)\n",
        "print(\"Validation Accuracy is \", accuracy_score(y_val,y_val_pred)*100)"
      ],
      "execution_count": 26,
      "outputs": [
        {
          "output_type": "stream",
          "text": [
            "Training Accuracy is  100.0\n",
            "Validation Accuracy is  75.60975609756098\n"
          ],
          "name": "stdout"
        }
      ]
    },
    {
      "cell_type": "markdown",
      "metadata": {
        "id": "VKgZWiEP5dLf",
        "colab_type": "text"
      },
      "source": [
        "How did the accuracy compare to the decision tree's accuracy?\n",
        "\n",
        "(YOUR ANSWER HERE)"
      ]
    },
    {
      "cell_type": "markdown",
      "metadata": {
        "id": "GyJ8r8-M7c0d",
        "colab_type": "text"
      },
      "source": [
        "Both accuracies are higher, but the training accuracy of 100 seems a little suspicious..."
      ]
    },
    {
      "cell_type": "markdown",
      "metadata": {
        "colab_type": "text",
        "id": "jGlSHxuUqAnX"
      },
      "source": [
        "Print the 3 most important features (hint: sklearn has an attribute to help you find these)"
      ]
    },
    {
      "cell_type": "code",
      "metadata": {
        "colab_type": "code",
        "id": "5rVekWn0qw3r",
        "colab": {
          "base_uri": "https://localhost:8080/",
          "height": 85
        },
        "outputId": "8cf62a19-b2b4-4e0b-dda0-dff79850b5d5"
      },
      "source": [
        "## YOUR CODE HERE\n",
        "importances = random_forest.feature_importances_\n",
        "\n",
        "featureImportances = pd.DataFrame(random_forest.feature_importances_, index = X_train.columns, columns=['importance']).sort_values('importance', ascending=False)\n",
        "\n",
        "print(featureImportances[:3])"
      ],
      "execution_count": 32,
      "outputs": [
        {
          "output_type": "stream",
          "text": [
            "      importance\n",
            "plas    0.241831\n",
            "mass    0.183550\n",
            "age     0.140445\n"
          ],
          "name": "stdout"
        }
      ]
    },
    {
      "cell_type": "markdown",
      "metadata": {
        "colab_type": "text",
        "id": "lynu8pLDtd0S"
      },
      "source": [
        "Find the accuracy for random forests with 1 to 100 trees, counting by 5. Print and then plot these accuracies."
      ]
    },
    {
      "cell_type": "code",
      "metadata": {
        "colab_type": "code",
        "id": "e2hG7npcuM7f",
        "colab": {
          "base_uri": "https://localhost:8080/",
          "height": 54
        },
        "outputId": "c71e0b25-8c54-4c24-ff3a-ed9e2cd8df4a"
      },
      "source": [
        "## YOUR CODE HERE\n",
        "accs = []\n",
        "\n",
        "for i in range(1, 100, 5):\n",
        "  forest = RandomForestClassifier(n_estimators=100)\n",
        "  forest.fit(X_train, y_train)\n",
        "  y_val_pred=forest.predict(X_val)\n",
        "  accs.append(accuracy_score(y_val, y_val_pred) * 100)\n",
        "\n",
        "print(accs)\n"
      ],
      "execution_count": 27,
      "outputs": [
        {
          "output_type": "stream",
          "text": [
            "[80.48780487804879, 73.98373983739837, 75.60975609756098, 78.86178861788618, 75.60975609756098, 76.42276422764228, 77.23577235772358, 75.60975609756098, 74.79674796747967, 77.23577235772358, 74.79674796747967, 77.23577235772358, 77.23577235772358, 75.60975609756098, 76.42276422764228, 77.23577235772358, 73.17073170731707, 74.79674796747967, 78.86178861788618, 78.04878048780488]\n"
          ],
          "name": "stdout"
        }
      ]
    },
    {
      "cell_type": "markdown",
      "metadata": {
        "id": "0_ovS_1t5dLm",
        "colab_type": "text"
      },
      "source": [
        "Plot the roc_curve using predict_proba a function for our random forest model, and metrics.roc_curve\n",
        "\n",
        "It might help to google these functions and look at sklearn's documentation."
      ]
    },
    {
      "cell_type": "code",
      "metadata": {
        "id": "QvS4ihzc5dLm",
        "colab_type": "code",
        "colab": {
          "base_uri": "https://localhost:8080/",
          "height": 421
        },
        "outputId": "00a13fb1-8b29-4004-dc79-fc1f537d0818"
      },
      "source": [
        "## YOUR CODE HERE\n",
        "labels = [0,1]\n",
        "y_val_prob = random_forest.predict_proba(X_val)\n",
        "\n",
        "fpr, tpr, thresholds = metrics.roc_curve(y_val, y_val_prob[:,1])\n",
        "\n",
        "# Calculate the area under the ROC curve\n",
        "roc_auc = metrics.auc(fpr, tpr)\n",
        "\n",
        "plt.figure(figsize=(6,6))\n",
        "lw = 2\n",
        "plt.plot(fpr, tpr, color='darkorange',\n",
        "         lw=lw, label='ROC curve (area = %0.2f)' % roc_auc)\n",
        "plt.plot([0, 1], [0, 1], color='navy', lw=lw, linestyle='--')\n",
        "plt.xlim([0.0, 1.0])\n",
        "plt.ylim([0.0, 1.0])\n",
        "plt.xlabel('False Positive Rate')\n",
        "plt.ylabel('True Positive Rate')\n",
        "plt.title('Receiver operating characteristic')\n",
        "plt.legend(loc=\"lower right\")\n",
        "plt.show()\n",
        "\n",
        "print(\"AUC curve (area = %0.2f)\" % roc_auc)"
      ],
      "execution_count": 35,
      "outputs": [
        {
          "output_type": "display_data",
          "data": {
            "image/png": "[encoded data removed]",
            "text/plain": [
              "<Figure size 432x432 with 1 Axes>"
            ]
          },
          "metadata": {
            "tags": [],
            "needs_background": "light"
          }
        },
        {
          "output_type": "stream",
          "text": [
            "AUC curve (area = 0.82)\n"
          ],
          "name": "stdout"
        }
      ]
    },
    {
      "cell_type": "code",
      "metadata": {
        "id": "wQjGCz4i-MzI",
        "colab_type": "code",
        "colab": {}
      },
      "source": [
        ""
      ],
      "execution_count": null,
      "outputs": []
    }
  ]
}